{
 "cells": [
  {
   "cell_type": "markdown",
   "metadata": {
    "id": "uUvsR-mWBoNS"
   },
   "source": [
    "# Conditional Generation <a href=\"https://colab.research.google.com/github/mostly-ai/mostlyai/blob/main/docs/tutorials/conditional-generation/conditional-generation.ipynb\" target=\"_blank\"><img src=\"https://img.shields.io/badge/Open%20in-Colab-blue?logo=google-colab\" alt=\"Run on Colab\"></a>\n",
    "\n",
    "In this tutorial, we show how to generate samples that are conditioned on specific values for a set of attributes. By that, we effectively create partially synthetic data, where synthetic attributes are randomly sampled given the context of a handful of pre-determined fixed attributes. Note, that the synthetic data is still statistically representative, but within the given context. The privacy of the overall dataset is then largely dependend on the privacy of the provided fixed attributes.\n",
    "\n",
    "We will demonstrate conditional generation for two use cases:\n",
    "1. First, we generate synthetic data for the UCI Adult Income, but will probe the model for an equal gender split and an uncorrelated income attribute. I.e., we will remove the gender income gap, and see how the other attributes will change accordingly.\n",
    "1. Secondly, we create partially synthetic data for AirBnB listings in Manhattan, where the locations will then be actual locations, yet all other attributes are synthetic.\n",
    "\n",
    "To perform either scenario, we will create a Seed table that contains all columns, that we want to hold fixed. Once, a Generator has been created, we can then proceed to provide the seed context with the fixed attributes to conditionally create a Synthetic Dataset.\n",
    "\n",
    "Note, the same kind of conditional generation can also be performed for two-table setups. Once a two-table Generator is trained, one can simply provide a Seed context for the subject table. The non-fixed columns of the subject table and the entire linked table will then be conditionally generated."
   ]
  },
  {
   "cell_type": "markdown",
   "metadata": {
    "id": "oZ7ERZK__8TB"
   },
   "source": [
    "## Use Case 1 - Rebalanced UCI Adult Income\n",
    "\n",
    "For this use case, we will be using again the UCI Adult Income [[1](#refs)] dataset. We will want to condition the synthetic data generation on the `sex` and `income` columns."
   ]
  },
  {
   "cell_type": "markdown",
   "metadata": {},
   "source": [
    "### Create a Generator with MOSTLY AI\n",
    "\n",
    "The code below will create a Generator using the MOSTLY AI Synthetic Data SDK."
   ]
  },
  {
   "cell_type": "code",
   "execution_count": null,
   "metadata": {},
   "outputs": [],
   "source": "%pip install mostlyai  # or: pip install 'mostlyai[local]'"
  },
  {
   "cell_type": "code",
   "execution_count": null,
   "metadata": {},
   "outputs": [],
   "source": [
    "import pandas as pd\n",
    "\n",
    "# fetch original data\n",
    "df = pd.read_csv(\"https://github.com/mostly-ai/public-demo-data/raw/dev/census/census.csv.gz\")\n",
    "df"
   ]
  },
  {
   "cell_type": "code",
   "execution_count": null,
   "metadata": {},
   "outputs": [],
   "source": [
    "from mostlyai.sdk import MostlyAI\n",
    "\n",
    "# initialize SDK\n",
    "mostly = MostlyAI()"
   ]
  },
  {
   "cell_type": "code",
   "execution_count": null,
   "metadata": {},
   "outputs": [],
   "source": [
    "# train a generator on the original training data\n",
    "g = mostly.train(\n",
    "    config={\n",
    "        \"name\": \"Conditional Generation Tutorial Census\",\n",
    "        \"tables\": [{\"name\": \"data\", \"data\": df, \"tabular_model_configuration\": {\"max_training_time\": 1}}],\n",
    "    }\n",
    ")"
   ]
  },
  {
   "cell_type": "markdown",
   "metadata": {},
   "source": [
    "### Generate Synthetic Dataset with MOSTLY AI\n",
    "\n",
    "Let's create a dataframe, with specific values for the fixed attributes `sex` and `income`, and use that as a seed for generating a Synthetic Dataset. We will create a 50/50 split between `Male` and `Females`. And we will keep the share of low- and high-income earners constant, however randomizing between men and women, effectively removing the gender income gap."
   ]
  },
  {
   "cell_type": "code",
   "execution_count": null,
   "metadata": {
    "tags": []
   },
   "outputs": [],
   "source": [
    "import numpy as np\n",
    "\n",
    "np.random.seed(1)\n",
    "\n",
    "n = 48_842\n",
    "p_inc = (df.income == \">50K\").mean()\n",
    "seed = pd.DataFrame(\n",
    "    {\n",
    "        \"sex\": np.random.choice([\"Male\", \"Female\"], n, p=[0.5, 0.5]),\n",
    "        \"income\": np.random.choice([\"<=50K\", \">50K\"], n, p=[1 - p_inc, p_inc]),\n",
    "    }\n",
    ")\n",
    "display(seed)"
   ]
  },
  {
   "cell_type": "code",
   "execution_count": null,
   "metadata": {
    "tags": []
   },
   "outputs": [],
   "source": [
    "# probe the generator for synthetic data with a seed\n",
    "syn = mostly.probe(generator=g, seed=seed)\n",
    "print(f\"Created synthetic data with {syn.shape[0]:,} records and {syn.shape[1]:,} attributes\")"
   ]
  },
  {
   "cell_type": "markdown",
   "metadata": {},
   "source": [
    "### Explore Synthetic Data"
   ]
  },
  {
   "cell_type": "markdown",
   "metadata": {},
   "source": [
    "Show 10 randomly sampled synthetic records. Note, that you can execute the following cell multiple times, to see different samples.\n",
    "\n",
    "You can see that the partially synthetic data consists of about half male and half female."
   ]
  },
  {
   "cell_type": "code",
   "execution_count": null,
   "metadata": {
    "tags": []
   },
   "outputs": [],
   "source": [
    "syn.sample(n=10)"
   ]
  },
  {
   "cell_type": "markdown",
   "metadata": {},
   "source": [
    "Let's now compare the age distribution of records from the the original data vs. from the partially synthetic data. As we will see, the synthesized women are now significantly older, in order to meet the criteria of removing the gender income gap.\n",
    "\n",
    "In a similar vein, you can now study other shifts in the distributions, that are the consequence of the provided seed data."
   ]
  },
  {
   "cell_type": "code",
   "execution_count": null,
   "metadata": {
    "tags": []
   },
   "outputs": [],
   "source": [
    "import matplotlib.pyplot as plt\n",
    "\n",
    "plt.xlim(10, 95)\n",
    "plt.title(\"Female Age Distribution\")\n",
    "plt.xlabel(\"Age\")\n",
    "df[df.sex == \"Female\"].age.plot.kde(color=\"black\", bw_method=0.2)\n",
    "syn[syn.sex == \"Female\"].age.plot.kde(color=\"#24db96\", bw_method=0.2)\n",
    "plt.legend({\"original\": \"black\", \"synthetic\": \"#24db96\"})\n",
    "plt.show()"
   ]
  },
  {
   "cell_type": "markdown",
   "metadata": {
    "id": "oZ7ERZK__8TB"
   },
   "source": [
    "## Use Case 2 - Partially Synthetic Geo Data\n",
    "\n",
    "For this use case, we will be using 2019 AirBnB listings [[2](#refs)] for Manhattan. The dataset consists of 48,895 records, and 10 mixed-type columns, with two of those representing the latitude and longitude of the listing. We will use this dataset to create synthetic attributes for all the actual locations, that were contained in the original."
   ]
  },
  {
   "cell_type": "markdown",
   "metadata": {},
   "source": [
    "### Pre-Processing\n",
    "\n",
    "We will need to concatenate `latitude` and `longitude` together into a single column, as this is the format expected by MOSTLY AI, in order to improve its representation of geo information.\n",
    "\n",
    "In this example we will not artifically create Seed data, but will use the concatenated `LAT_LONG` variable and the `neighbourhood` variable from the original data as a Seed dataframe."
   ]
  },
  {
   "cell_type": "code",
   "execution_count": null,
   "metadata": {
    "colab": {
     "base_uri": "https://localhost:8080/",
     "height": 92
    },
    "id": "uTR_dshPG4vZ",
    "outputId": "4aab330a-29e2-48a0-8831-517d0bb7a55a"
   },
   "outputs": [],
   "source": [
    "# fetch original data\n",
    "df_orig = pd.read_csv(\"https://github.com/mostly-ai/public-demo-data/raw/dev/airbnb/airbnb.csv.gz\")\n",
    "df_orig"
   ]
  },
  {
   "cell_type": "code",
   "execution_count": null,
   "metadata": {
    "tags": []
   },
   "outputs": [],
   "source": [
    "df = df_orig.copy()\n",
    "\n",
    "# concatenate latitude and longitude to \"LAT, LONG\" format\n",
    "df[\"LAT_LONG\"] = df[\"latitude\"].astype(str) + \", \" + df[\"longitude\"].astype(str)\n",
    "df = df.drop(columns=[\"latitude\", \"longitude\"])\n",
    "\n",
    "# define list of columns, on which we want to condition on\n",
    "seed_cols = [\"neighbourhood\", \"LAT_LONG\"]\n",
    "\n",
    "# create dataframe that will be used as seed\n",
    "df_seed = df[seed_cols]\n",
    "display(df_seed.head())"
   ]
  },
  {
   "cell_type": "markdown",
   "metadata": {},
   "source": [
    "### Create Generator with MOSTLY AI\n",
    "\n",
    "The code below will create a Generator using the MOSTLY AI Synthetic Data SDK. We use pre-processed AirBnB data and need to configure column `LAT_LONG` as encoding type `Latitude, Longitude`. In order to not wait too long for the Generator to be ready we are limiting the max. training time to 2 minutes which will already provide us with sufficient quality."
   ]
  },
  {
   "cell_type": "code",
   "execution_count": null,
   "metadata": {},
   "outputs": [],
   "source": [
    "# Train a generator on the pre-processed AirBnB data\n",
    "config = {\n",
    "    \"name\": \"Conditional Generation Tutorial AirBnB\",\n",
    "    \"tables\": [\n",
    "        {\n",
    "            \"name\": \"AirBnB\",\n",
    "            \"data\": df,\n",
    "            \"columns\": [\n",
    "                {\"name\": \"neighbourhood_group\", \"model_encoding_type\": \"TABULAR_CATEGORICAL\"},\n",
    "                {\"name\": \"neighbourhood\", \"model_encoding_type\": \"TABULAR_CATEGORICAL\"},\n",
    "                {\"name\": \"room_type\", \"model_encoding_type\": \"TABULAR_CATEGORICAL\"},\n",
    "                {\"name\": \"price\", \"model_encoding_type\": \"TABULAR_NUMERIC_AUTO\"},\n",
    "                {\"name\": \"minimum_nights\", \"model_encoding_type\": \"TABULAR_NUMERIC_AUTO\"},\n",
    "                {\"name\": \"number_of_reviews\", \"model_encoding_type\": \"TABULAR_NUMERIC_AUTO\"},\n",
    "                {\"name\": \"last_review\", \"model_encoding_type\": \"TABULAR_DATETIME\"},\n",
    "                {\"name\": \"reviews_per_month\", \"model_encoding_type\": \"TABULAR_NUMERIC_AUTO\"},\n",
    "                {\"name\": \"availability_365\", \"model_encoding_type\": \"TABULAR_NUMERIC_AUTO\"},\n",
    "                {\"name\": \"LAT_LONG\", \"model_encoding_type\": \"TABULAR_LAT_LONG\"},\n",
    "            ],\n",
    "            \"tabular_model_configuration\": {\n",
    "                \"max_training_time\": 2,\n",
    "            },\n",
    "        }\n",
    "    ],\n",
    "}\n",
    "\n",
    "g_airbnb = mostly.train(config=config)"
   ]
  },
  {
   "cell_type": "markdown",
   "metadata": {},
   "source": [
    "### Generate Synthetic Dataset with MOSTLY AI\n",
    "\n",
    "We can now generate a Synthetic Dataset with the Seed that we already previously created."
   ]
  },
  {
   "cell_type": "code",
   "execution_count": null,
   "metadata": {
    "tags": []
   },
   "outputs": [],
   "source": [
    "# generate a synthetic dataset with a seed\n",
    "syn_partial = mostly.probe(generator=g_airbnb, seed=df_seed)\n",
    "print(f\"Created synthetic data with {syn_partial.shape[0]:,} records and {syn_partial.shape[1]:,} attributes\")"
   ]
  },
  {
   "cell_type": "markdown",
   "metadata": {},
   "source": [
    "### Explore Synthetic Data\n",
    "\n",
    "Let's compare the price distribution across Manhatten. Note again, that while the locations in the partially synthetic data are actual locations, all other attributes, incl. the price per night, are randomly sampled by the generative model. Still, these prices are again statistically representative given the context, i.e. the location within Manhattan."
   ]
  },
  {
   "cell_type": "code",
   "execution_count": null,
   "metadata": {
    "tags": []
   },
   "outputs": [],
   "source": [
    "%%capture --no-display\n",
    "\n",
    "\n",
    "def plot_manhatten(df, title):\n",
    "    ax = df_orig.plot.scatter(\n",
    "        x=\"longitude\",\n",
    "        y=\"latitude\",\n",
    "        s=0.1,\n",
    "        alpha=1,\n",
    "        color=np.log(df.price.clip(lower=50, upper=2_000)),\n",
    "        cmap=plt.colormaps[\"YlOrRd\"],\n",
    "    )\n",
    "    ax.set_aspect(1.3)\n",
    "    ax.set_title(title)\n",
    "    plt.show()\n",
    "\n",
    "\n",
    "plot_manhatten(df_orig, \"Original Data\")\n",
    "plot_manhatten(syn_partial, \"Partially Synthetic Data\")"
   ]
  },
  {
   "cell_type": "markdown",
   "metadata": {},
   "source": [
    "Note, that you can also create a fully synthetic data, and will also yield statistically representative locations with their attributes. However, as these locations do not necessarily exist (e.g. they might end up in the Hudson River), the demonstrated approach allows you to combine the best of both worlds. "
   ]
  },
  {
   "cell_type": "markdown",
   "metadata": {
    "id": "UMGNussThvys"
   },
   "source": [
    "## Conclusion\n",
    "\n",
    "In this tutorial we walked throught the process of conditional generation to yield partially synthetic data. This allows you to probe the generative model with a specific context, whether that is hypothetical (use case 1) or real (use case 2), and gain corresponding insights for specific scenarios.\n",
    "\n",
    "## Further exercises\n",
    "\n",
    "In addition to walking through the above instructions, we suggest..\n",
    "* to use a different set of fixed columns for the US Census dataset\n",
    "* to generate a very large number of records for a fixed value set, e.g. create 1 million records of 48 year old female Professors\n",
    "* to perform a fully synthetic dataset of the AirBnB Manhattan dataset"
   ]
  },
  {
   "cell_type": "markdown",
   "metadata": {},
   "source": [
    "## References<a class=\"anchor\" name=\"refs\"></a>\n",
    "\n",
    "1. https://archive.ics.uci.edu/ml/datasets/adult\n",
    "1. http://insideairbnb.com/get-the-data\n"
   ]
  }
 ],
 "metadata": {
  "colab": {
   "provenance": []
  },
  "kernelspec": {
   "display_name": "Python 3 (ipykernel)",
   "language": "python",
   "name": "python3"
  },
  "language_info": {
   "codemirror_mode": {
    "name": "ipython",
    "version": 3
   },
   "file_extension": ".py",
   "mimetype": "text/x-python",
   "name": "python",
   "nbconvert_exporter": "python",
   "pygments_lexer": "ipython3",
   "version": "3.12.3"
  },
  "vscode": {
   "interpreter": {
    "hash": "767d51c1340bd893661ea55ea3124f6de3c7a262a8b4abca0554b478b1e2ff90"
   }
  }
 },
 "nbformat": 4,
 "nbformat_minor": 4
}
